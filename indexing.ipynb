{
 "cells": [
  {
   "cell_type": "code",
   "execution_count": 1,
   "id": "f7f96349",
   "metadata": {},
   "outputs": [
    {
     "name": "stdout",
     "output_type": "stream",
     "text": [
      "Original List: [10, 20, 30, 40, 50, 60]\n",
      "Numpy Array: [10 20 30 40 50 60]\n",
      "Data Type of Numpy Array: int64\n",
      "Shape of Numpy Array: (6,)\n",
      "Size of Numpy Array: 6\n",
      "Number of Dimensions of Numpy Array: 1\n",
      "Item Size of Numpy Array (in bytes): 8\n",
      "[[10 20 30]\n",
      " [40 50 60]]\n"
     ]
    }
   ],
   "source": [
    "import numpy as np\n",
    "lst=[10,20,30,40,50,60]\n",
    "print(\"Original List:\", lst)\n",
    "lst1=np.array(lst)\n",
    "print(\"Numpy Array:\", lst1)\n",
    "print(\"Data Type of Numpy Array:\", lst1.dtype)\n",
    "print(\"Shape of Numpy Array:\", lst1.shape)\n",
    "print(\"Size of Numpy Array:\", lst1.size)\n",
    "print(\"Number of Dimensions of Numpy Array:\", lst1.ndim)\n",
    "print(\"Item Size of Numpy Array (in bytes):\", lst1.itemsize)\n",
    "print(lst1.reshape(2,3))"
   ]
  },
  {
   "cell_type": "code",
   "execution_count": 2,
   "id": "3ec8874c",
   "metadata": {},
   "outputs": [
    {
     "data": {
      "text/plain": [
       "np.int64(10)"
      ]
     },
     "execution_count": 2,
     "metadata": {},
     "output_type": "execute_result"
    }
   ],
   "source": [
    "lst1[0]"
   ]
  },
  {
   "cell_type": "code",
   "execution_count": 3,
   "id": "8ff6e909",
   "metadata": {},
   "outputs": [
    {
     "data": {
      "text/plain": [
       "np.int64(30)"
      ]
     },
     "execution_count": 3,
     "metadata": {},
     "output_type": "execute_result"
    }
   ],
   "source": [
    "lst1[2]"
   ]
  },
  {
   "cell_type": "code",
   "execution_count": 4,
   "id": "aa40e1b2",
   "metadata": {},
   "outputs": [
    {
     "data": {
      "text/plain": [
       "np.int64(60)"
      ]
     },
     "execution_count": 4,
     "metadata": {},
     "output_type": "execute_result"
    }
   ],
   "source": [
    "lst1[-1]"
   ]
  },
  {
   "cell_type": "code",
   "execution_count": 5,
   "id": "8c6c42c1",
   "metadata": {},
   "outputs": [
    {
     "data": {
      "text/plain": [
       "np.int64(30)"
      ]
     },
     "execution_count": 5,
     "metadata": {},
     "output_type": "execute_result"
    }
   ],
   "source": [
    "lst1[2]"
   ]
  },
  {
   "cell_type": "code",
   "execution_count": 6,
   "id": "4d5f96af",
   "metadata": {},
   "outputs": [
    {
     "data": {
      "text/plain": [
       "array([20, 30, 40])"
      ]
     },
     "execution_count": 6,
     "metadata": {},
     "output_type": "execute_result"
    }
   ],
   "source": [
    "lst1[1:4]"
   ]
  },
  {
   "cell_type": "code",
   "execution_count": 7,
   "id": "9d81ab9e",
   "metadata": {},
   "outputs": [
    {
     "data": {
      "text/plain": [
       "array([10, 30, 50])"
      ]
     },
     "execution_count": 7,
     "metadata": {},
     "output_type": "execute_result"
    }
   ],
   "source": [
    "lst1[::2]"
   ]
  }
 ],
 "metadata": {
  "kernelspec": {
   "display_name": "base",
   "language": "python",
   "name": "python3"
  },
  "language_info": {
   "codemirror_mode": {
    "name": "ipython",
    "version": 3
   },
   "file_extension": ".py",
   "mimetype": "text/x-python",
   "name": "python",
   "nbconvert_exporter": "python",
   "pygments_lexer": "ipython3",
   "version": "3.13.5"
  }
 },
 "nbformat": 4,
 "nbformat_minor": 5
}
